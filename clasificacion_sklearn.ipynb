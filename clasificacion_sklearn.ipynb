{
 "cells": [
  {
   "cell_type": "code",
   "execution_count": 1,
   "metadata": {},
   "outputs": [
    {
     "name": "stdout",
     "output_type": "stream",
     "text": [
      "[1]\n",
      "La tasa de aciertos fue de : 33.33%\n",
      "La tasa de aciertos fue de : 33.33%\n"
     ]
    },
    {
     "name": "stderr",
     "output_type": "stream",
     "text": [
      "c:\\Users\\antonio\\AppData\\Local\\Programs\\Python\\Python311\\Lib\\site-packages\\sklearn\\svm\\_classes.py:32: FutureWarning: The default value of `dual` will change from `True` to `'auto'` in 1.5. Set the value of `dual` explicitly to suppress the warning.\n",
      "  warnings.warn(\n"
     ]
    }
   ],
   "source": [
    "\n",
    "# features 1 = sí & 0 = no\n",
    "# tiene el pelo largo?\n",
    "# tiene las uñas afiladas\n",
    "# hace miau\n",
    "\n",
    "\n",
    "perro1 = [0,1,1]\n",
    "perro2 = [1,0,1]\n",
    "perro3 = [1,1,1]\n",
    "\n",
    "gato1 = [0,1,0]\n",
    "gato2 = [0,1,1]\n",
    "gato3 = [1,1,0]\n",
    "\n",
    "\n",
    "x_train =[perro1,perro2,perro3,gato1,gato2,gato3]\n",
    "y_train =[1,1,1,0,0,0]\n",
    "\n",
    "from sklearn.svm import LinearSVC\n",
    "\n",
    "model = LinearSVC()\n",
    "model.fit(x_train,y_train)\n",
    "\n",
    "LinearSVC()\n",
    "\n",
    "animal_misterioso = [1,1,1]\n",
    "prevision1 = model.predict([animal_misterioso])\n",
    "print(prevision1)\n",
    "\n",
    "\n",
    "misterio1 =[1,1,1]\n",
    "misterio2 =[1,1,0]\n",
    "misterio3 =[0,1,1]\n",
    "\n",
    "x_test =[misterio1,misterio2,misterio3]\n",
    "y_test =[0,1,1]\n",
    "\n",
    "previsiones = model.predict(x_test)\n",
    "\n",
    "correctos = (previsiones==y_test).sum()\n",
    "total = len(x_test)\n",
    "tasa_de_acierto = correctos/total\n",
    "print(f'La tasa de aciertos fue de : {round(tasa_de_acierto*100, 2)}%')\n",
    "\n",
    "\n",
    "from sklearn.metrics import accuracy_score\n",
    "tasa_de_acierto = accuracy_score(y_test, previsiones)\n",
    "print(f'La tasa de aciertos fue de : {round(tasa_de_acierto*100, 2)}%')\n",
    "\n",
    "\n"
   ]
  },
  {
   "cell_type": "code",
   "execution_count": 11,
   "metadata": {},
   "outputs": [
    {
     "name": "stdout",
     "output_type": "stream",
     "text": [
      "Entrenaremos con 75 elementos y probaremos con 24 elementos\n",
      "La tasa de aciertos fue de : 95.83%\n"
     ]
    },
    {
     "name": "stderr",
     "output_type": "stream",
     "text": [
      "c:\\Users\\antonio\\AppData\\Local\\Programs\\Python\\Python311\\Lib\\site-packages\\sklearn\\svm\\_classes.py:32: FutureWarning: The default value of `dual` will change from `True` to `'auto'` in 1.5. Set the value of `dual` explicitly to suppress the warning.\n",
      "  warnings.warn(\n"
     ]
    }
   ],
   "source": [
    "import pandas as pd\n",
    "uri = \"https://gist.githubusercontent.com/ahcamachod/38673f75b54ec62ffc290eff8e7c716e/raw/6eaa07e199d9f668bf94a034cb84dac58c82fa4f/tracking.csv\"\n",
    "datos = pd.read_csv(uri)\n",
    "\n",
    "mapa = {\n",
    "    \"home\": \"principal\",\n",
    "    \"how_it_works\": \"como_funciona\",\n",
    "    \"contact\": \"contacto\",\n",
    "    \"bought\": \"compro\"\n",
    "}\n",
    "\n",
    "datos = datos.rename(columns=mapa)\n",
    "datos.sample(3)\n",
    "\n",
    "x = datos[[\"principal\", \"como_funciona\", \"contacto\"]]\n",
    "y = datos.compro\n",
    "\n",
    "datos.shape\n",
    "\n",
    "x_train = x[:75]\n",
    "y_train = y[:75]\n",
    "x_test = x[75:]\n",
    "y_test =y[75:]\n",
    "\n",
    "print(f\"Entrenaremos con {len(x_train)} elementos y probaremos con {len(x_test)} elementos\" )\n",
    "\n",
    "from sklearn.svm import LinearSVC\n",
    "model = LinearSVC()\n",
    "model.fit(x_train,y_train)\n",
    "previsiones = model.predict(x_test)\n",
    "\n",
    "from sklearn.metrics import accuracy_score\n",
    "tasa_de_acierto = accuracy_score(y_test, previsiones)\n",
    "print(f'La tasa de aciertos fue de : {round(tasa_de_acierto*100, 2)}%')\n",
    "\n",
    "\n"
   ]
  },
  {
   "cell_type": "code",
   "execution_count": 17,
   "metadata": {},
   "outputs": [
    {
     "name": "stdout",
     "output_type": "stream",
     "text": [
      "La tasa de aciertos fue de : 96.0%\n"
     ]
    },
    {
     "name": "stderr",
     "output_type": "stream",
     "text": [
      "c:\\Users\\antonio\\AppData\\Local\\Programs\\Python\\Python311\\Lib\\site-packages\\sklearn\\svm\\_classes.py:32: FutureWarning: The default value of `dual` will change from `True` to `'auto'` in 1.5. Set the value of `dual` explicitly to suppress the warning.\n",
      "  warnings.warn(\n"
     ]
    }
   ],
   "source": [
    "from sklearn.model_selection import train_test_split\n",
    "\n",
    "SEED = 42\n",
    "\n",
    "x_train, x_test, y_train, y_test = train_test_split(x,y,test_size=0.25, random_state=SEED)\n",
    "\n",
    "\n",
    "from sklearn.svm import LinearSVC\n",
    "model = LinearSVC()\n",
    "model.fit(x_train,y_train)\n",
    "previsiones = model.predict(x_test)\n",
    "\n",
    "from sklearn.metrics import accuracy_score\n",
    "tasa_de_acierto = accuracy_score(y_test, previsiones)\n",
    "print(f'La tasa de aciertos fue de : {round(tasa_de_acierto*100, 2)}%')\n",
    "\n",
    "\n"
   ]
  }
 ],
 "metadata": {
  "kernelspec": {
   "display_name": "Python 3",
   "language": "python",
   "name": "python3"
  },
  "language_info": {
   "codemirror_mode": {
    "name": "ipython",
    "version": 3
   },
   "file_extension": ".py",
   "mimetype": "text/x-python",
   "name": "python",
   "nbconvert_exporter": "python",
   "pygments_lexer": "ipython3",
   "version": "3.11.4"
  },
  "orig_nbformat": 4
 },
 "nbformat": 4,
 "nbformat_minor": 2
}
